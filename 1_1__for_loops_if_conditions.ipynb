{
  "cells": [
    {
      "cell_type": "markdown",
      "metadata": {
        "id": "DBwp0YuM-IJ3"
      },
      "source": [
        "### For loops\n",
        "\n",
        "Whenever you want to apply any transformation to all elements in a list, you iterate through them with a `for` loop."
      ]
    },
    {
      "cell_type": "code",
      "execution_count": 1,
      "metadata": {
        "colab": {
          "base_uri": "https://localhost:8080/"
        },
        "id": "P2rRieYn-IJ4",
        "outputId": "59c6d81a-ef6c-4dba-90ca-714c38d0c2a5"
      },
      "outputs": [
        {
          "name": "stdout",
          "output_type": "stream",
          "text": [
            "Hello Justine!\n",
            "Hello Anabel!\n",
            "Hello Karl!\n"
          ]
        }
      ],
      "source": [
        "names_list = [\"Justine\", \"Anabel\", \"Karl\"]\n",
        "\n",
        "for name in names_list:\n",
        "    print(\"Hello \" + name + \"!\")"
      ]
    },
    {
      "cell_type": "markdown",
      "metadata": {
        "id": "EYew8fy_-IJ4"
      },
      "source": [
        "Here, the word `name` could really be anything. It is just a placeholder that takes the value of each element in the for loop in every sucessive iteration, until the loop reaches the end of the list. Using a diferent name does not change the result:"
      ]
    },
    {
      "cell_type": "code",
      "execution_count": 2,
      "metadata": {
        "colab": {
          "base_uri": "https://localhost:8080/"
        },
        "id": "R82djo9V-IJ4",
        "outputId": "1157a6a4-be5f-41d4-ec12-8363438376b7"
      },
      "outputs": [
        {
          "name": "stdout",
          "output_type": "stream",
          "text": [
            "Hello Justine!\n",
            "Hello Anabel!\n",
            "Hello Karl!\n"
          ]
        }
      ],
      "source": [
        "for dinosaur in names_list:\n",
        "    print(\"Hello \" + dinosaur + \"!\")"
      ]
    },
    {
      "cell_type": "markdown",
      "metadata": {
        "id": "kwIGxt6G-IJ4"
      },
      "source": [
        "If we wanted to store the resulting transformations of our loop into a new list, we would define an empty list first, and then `append()` all the elements as we iterate through the loop:"
      ]
    },
    {
      "cell_type": "code",
      "execution_count": 3,
      "metadata": {
        "id": "v2fv0GBk-IJ4"
      },
      "outputs": [],
      "source": [
        "greetings = []\n",
        "\n",
        "for name in names_list:\n",
        "    greetings.append(\"Hello \" + name + \"!\")"
      ]
    },
    {
      "cell_type": "code",
      "execution_count": 4,
      "metadata": {
        "colab": {
          "base_uri": "https://localhost:8080/"
        },
        "id": "na5NQYqS-IJ4",
        "outputId": "45ddc4b2-936c-4ed0-cbf9-d483e287c079"
      },
      "outputs": [
        {
          "data": {
            "text/plain": [
              "['Hello Justine!', 'Hello Anabel!', 'Hello Karl!']"
            ]
          },
          "execution_count": 4,
          "metadata": {},
          "output_type": "execute_result"
        }
      ],
      "source": [
        "greetings"
      ]
    },
    {
      "cell_type": "markdown",
      "metadata": {
        "id": "aaEMo6_D-IJ4"
      },
      "source": [
        "**Exercise 1**. Create a List named `lower_names` with all the names of the students in your batch. Include name and surname, all in lowercase (like `john doe`)."
      ]
    },
    {
      "cell_type": "code",
      "execution_count": 5,
      "metadata": {
        "id": "mROLPc8Z-IJ5"
      },
      "outputs": [],
      "source": [
        "lower_names = ['mag', 'ran', 'chud']"
      ]
    },
    {
      "cell_type": "markdown",
      "metadata": {
        "id": "k2_aFWyd-IJ5"
      },
      "source": [
        "**Exercise 2** Create a new list `capital_names`  with both the names and surnames capitalized (like `John Doe`), by iterating through the first list with a `for` loop."
      ]
    },
    {
      "cell_type": "code",
      "execution_count": null,
      "metadata": {
        "id": "z26bvsuC-IJ5"
      },
      "outputs": [],
      "source": []
    },
    {
      "cell_type": "markdown",
      "metadata": {
        "id": "A1IyEosz-IJ5"
      },
      "source": [
        "### Conditions with `if`\n",
        "\n",
        "Whenever you want to do something only if a condition is met, you will need an `if` statement. Let's say we want to greet people only if their name starts with \"A\". We will add a few more names to our list:"
      ]
    },
    {
      "cell_type": "code",
      "execution_count": 6,
      "metadata": {
        "id": "qJY4Vyvr-IJ5"
      },
      "outputs": [],
      "source": [
        "names_list = [\"Justine\", \"Amabel\", \"Karl\", \"Anna\", \"Lina\", \"Sergei\", \"Magnus\", \"Aurora\"]"
      ]
    },
    {
      "cell_type": "markdown",
      "metadata": {
        "id": "lj4IYFAw-IJ5"
      },
      "source": [
        "We can check one by one whether they start with \"A\" by selecting them from the list by their position using `[]`, and using the string method you already learned `starts_with()`:"
      ]
    },
    {
      "cell_type": "code",
      "execution_count": 7,
      "metadata": {
        "colab": {
          "base_uri": "https://localhost:8080/"
        },
        "id": "OHzXCA_7-IJ5",
        "outputId": "a88b0d48-5662-4778-d8ba-2ed39f11e73b"
      },
      "outputs": [
        {
          "name": "stdout",
          "output_type": "stream",
          "text": [
            "False\n",
            "True\n"
          ]
        }
      ],
      "source": [
        "# Justine\n",
        "print(names_list[0].startswith(\"A\"))\n",
        "\n",
        "# Amabel\n",
        "print(names_list[1].startswith(\"A\"))"
      ]
    },
    {
      "cell_type": "markdown",
      "metadata": {
        "id": "U3RA3n0A-IJ5"
      },
      "source": [
        "These booleans, `True` or `False`, are exactly what `if` statements need. Whenever a condition is true, the code below the `if` statement runs; if the condition is false, the code is skipped and nothing happens:"
      ]
    },
    {
      "cell_type": "code",
      "execution_count": 8,
      "metadata": {
        "colab": {
          "base_uri": "https://localhost:8080/"
        },
        "id": "dfUOVFhE-IJ5",
        "outputId": "76081d73-84fb-4d11-d95d-107c49ba172c"
      },
      "outputs": [
        {
          "name": "stdout",
          "output_type": "stream",
          "text": [
            "yay\n"
          ]
        }
      ],
      "source": [
        "condition = True\n",
        "\n",
        "if condition:\n",
        "    print(\"yay\")"
      ]
    },
    {
      "cell_type": "code",
      "execution_count": 9,
      "metadata": {
        "id": "IZfrQbNC-IJ5"
      },
      "outputs": [],
      "source": [
        "condition = False\n",
        "\n",
        "if condition:\n",
        "    print(\"yay\")"
      ]
    },
    {
      "cell_type": "markdown",
      "metadata": {
        "id": "a7e4kn5s-IJ6"
      },
      "source": [
        "So we can now tie everything together:\n",
        "\n",
        "- A for loop that iterates through the names.\n",
        "\n",
        "- An `if` statment that checks whether the name starts with \"A\".\n",
        "\n",
        "- A greeting."
      ]
    },
    {
      "cell_type": "code",
      "execution_count": 10,
      "metadata": {
        "colab": {
          "base_uri": "https://localhost:8080/"
        },
        "id": "EqZ2XlZx-IJ6",
        "outputId": "92987dd2-ebdd-4b22-aae4-89facc30b5a0"
      },
      "outputs": [
        {
          "name": "stdout",
          "output_type": "stream",
          "text": [
            "Hello Amabel!\n",
            "Hello Anna!\n",
            "Hello Aurora!\n"
          ]
        }
      ],
      "source": [
        "for name in names_list:\n",
        "    if name.startswith(\"A\"):\n",
        "        print(\"Hello \" + name + \"!\")"
      ]
    },
    {
      "cell_type": "markdown",
      "metadata": {
        "id": "kADtYciG-IJ6"
      },
      "source": [
        "An `else` statement can be added if you want to do something with the elements that did not meet the condition. \n",
        "\n",
        "After the `if` and the `else` statements, you can continue coding normally —and the code will run independently of any conditions. Here, we print some text and a line break:"
      ]
    },
    {
      "cell_type": "code",
      "execution_count": 11,
      "metadata": {
        "colab": {
          "base_uri": "https://localhost:8080/"
        },
        "id": "WTx50fcw-IJ6",
        "outputId": "c4b936df-caed-4d89-d291-a216f532f5d1"
      },
      "outputs": [
        {
          "name": "stdout",
          "output_type": "stream",
          "text": [
            "Bye Justine!\n",
            "Hello Amabel!\n",
            "Bye Karl!\n",
            "Hello Anna!\n",
            "Bye Lina!\n",
            "Bye Sergei!\n",
            "Bye Magnus!\n",
            "Hello Aurora!\n"
          ]
        }
      ],
      "source": [
        "for name in names_list:\n",
        "    if name.startswith(\"A\"):\n",
        "        print(\"Hello \" + name + \"!\")\n",
        "    else:\n",
        "        print(\"Bye \" + name + \"!\")"
      ]
    },
    {
      "cell_type": "markdown",
      "metadata": {
        "id": "VgAX9E4gB6LI"
      },
      "source": [
        "Let's add a text that gets printed after each iteration of the loop, so it is clearer what's going on..."
      ]
    },
    {
      "cell_type": "code",
      "execution_count": 26,
      "metadata": {
        "colab": {
          "base_uri": "https://localhost:8080/"
        },
        "id": "SMffM14b-IJ7",
        "outputId": "92266ba6-1a8b-474b-bc23-b4d1e51fc4fa"
      },
      "outputs": [
        {
          "name": "stdout",
          "output_type": "stream",
          "text": [
            "Bye Justine!\n",
            "next iteration incoming... \n",
            "\n",
            "Hello Amabel!\n",
            "next iteration incoming... \n",
            "\n",
            "Bye Karl!\n",
            "next iteration incoming... \n",
            "\n",
            "Hello Anna!\n",
            "next iteration incoming... \n",
            "\n",
            "Bye Lina!\n",
            "next iteration incoming... \n",
            "\n",
            "Bye Sergei!\n",
            "next iteration incoming... \n",
            "\n",
            "Bye Magnus!\n",
            "next iteration incoming... \n",
            "\n",
            "Hello Aurora!\n",
            "next iteration incoming... \n",
            "\n"
          ]
        }
      ],
      "source": [
        "for name in names_list:\n",
        "    if name.startswith(\"A\"):\n",
        "        print(\"Hello \" + name + \"!\")\n",
        "    else:\n",
        "        print(\"Bye \" + name + \"!\")\n",
        "    print(\"next iteration incoming... \\n\") # indenting this line along the last print statement gets rid of 'next iteration coming' for the last iteration"
      ]
    },
    {
      "cell_type": "markdown",
      "metadata": {
        "id": "mA72Iw-S-IJ6"
      },
      "source": [
        "**Exercise 3** In the previous code, the \"next iteration incoming...\" text gets printed also for the last iteration, which might be confusing for whoever is reading the output of this code. Tweak the code so that this text only gets printed if we are not in the last element of our list.\n",
        "\n",
        "**Tip**: it is totally normal if you don't know how to approach this exercise right away. You might need to use something we have not seeen in this lesson or the previous one. Google is your friend! If you are stuck for a long time (above 30 min), and have already tried many things, it's time to ask for help to your instructor."
      ]
    },
    {
      "cell_type": "code",
      "execution_count": 13,
      "metadata": {
        "colab": {
          "base_uri": "https://localhost:8080/"
        },
        "id": "E2iJ9T-U-IJ7",
        "outputId": "51057a6d-d572-417a-e8c3-83120136e31c"
      },
      "outputs": [
        {
          "name": "stdout",
          "output_type": "stream",
          "text": [
            "Bye Justine!\n",
            "next iteration incoming... \n",
            "\n",
            "Hello Amabel!\n",
            "next iteration incoming... \n",
            "\n",
            "Bye Karl!\n",
            "next iteration incoming... \n",
            "\n",
            "Hello Anna!\n",
            "next iteration incoming... \n",
            "\n",
            "Bye Lina!\n",
            "next iteration incoming... \n",
            "\n",
            "Bye Sergei!\n",
            "next iteration incoming... \n",
            "\n",
            "Bye Magnus!\n",
            "next iteration incoming... \n",
            "\n",
            "Hello Aurora!\n"
          ]
        }
      ],
      "source": [
        "# code here\n",
        "for name in names_list:\n",
        "    if name.startswith(\"A\"):\n",
        "        print(\"Hello \" + name + \"!\")\n",
        "    else:\n",
        "        print(\"Bye \" + name + \"!\")\n",
        "    if name != names_list[-1]:\n",
        "        print(\"next iteration incoming... \\n\")\n",
        "    "
      ]
    },
    {
      "cell_type": "markdown",
      "metadata": {
        "id": "elfVtO9A-IJ7"
      },
      "source": [
        "### Bonus exercises\n",
        "\n"
      ]
    },
    {
      "cell_type": "code",
      "execution_count": 14,
      "metadata": {
        "id": "0xvt0482Cvb7"
      },
      "outputs": [],
      "source": [
        "# some lists and series to work with\n",
        "import pandas as pd\n",
        "\n",
        "car_brands = [\"BMW\", \"Volkswagen\", \"Mercedes\", \"Ford\", \"Apple\", \"Toyota\", \n",
        "              \"Tesla\", \"Kia\", \"Porsche\", \"Mazda\", \"Honda\", \"Jaguar\", \n",
        "              \"Mitsubishi\", \"Audi\", \"Bentley\", \"Bugatti\", \"Chrisler\"]\n",
        "\n",
        "fibonacci = [0, 1, 1, 2, 3, 5, 8, 13, 21, 34, 53, 89, 144]\n",
        "\n",
        "characters = [[\"Harry\", \"Hermoine\", \"Ron\"], \n",
        "              [\"Daenerys Targaryen\", \"Jon Snow\", \"Tyrion Lannister\", \n",
        "               \"Cercei Lannister\", \"Arya Stark\", \"Sansa Stark\"],\n",
        "              [\"Aragorn\", \"Gandalf\", \"Frodo\", \"Legolas\", \"Gollum\", \"Gimli\"],\n",
        "              [\"Walter White\", \"Jesse Pinkman\", \"Gus Fring\"]\n",
        "             ]\n",
        "\n",
        "sex_and_the_city = [\"Carrie\", \"Samantha\", \"Charlotte\", \"Miranda\"]\n",
        "\n",
        "numbers = [1, 51, 59, 2, 95, 25, 28, 67, 14, 63, 84, 33, 56, 31, 54, 97, 77, \n",
        "            98, 46, 84, 6, 66, 86, 77, 69, 19, 77, 7, 76, 19, 59, 77, 28, 34, \n",
        "            94, 4, 45, 95, 41, 66, 5, 38, 35, 57, 84, 38, 94, 65, 45, 80, 83, \n",
        "            22, 12, 100, 52, 55, 31, 69, 29, 67, 4, 39, 87, 49, 81, 82, 96, 4, \n",
        "            85, 62, 90, 72, 70, 26, 29, 63, 48, 94, 58, 9, 49, 79, 33, 63, 41, \n",
        "            13, 90, 37, 31, 3, 11, 54, 56, 72, 91, 97, 2, 83, 82, 6]\n",
        "\n",
        "numbers_ser = pd.Series(numbers)"
      ]
    },
    {
      "cell_type": "markdown",
      "metadata": {
        "id": "E5ZpP-VlDpRx"
      },
      "source": [
        "**Exercise 4:** \n",
        "\n",
        "Implement the for loop that greets people for the `characters` list you used in the previous exercises. For now, do not include any condition —just say hello to every character. What do you need to do to iterate through lists inside a list?"
      ]
    },
    {
      "cell_type": "code",
      "execution_count": 15,
      "metadata": {
        "colab": {
          "base_uri": "https://localhost:8080/"
        },
        "id": "XOlqcNsb-IJ7",
        "outputId": "ae2ecf37-6500-4a66-d539-19cb89ebe703"
      },
      "outputs": [
        {
          "name": "stdout",
          "output_type": "stream",
          "text": [
            "hello Harry\n",
            "hello Hermoine\n",
            "hello Ron\n",
            "hello Daenerys Targaryen\n",
            "hello Jon Snow\n",
            "hello Tyrion Lannister\n",
            "hello Cercei Lannister\n",
            "hello Arya Stark\n",
            "hello Sansa Stark\n",
            "hello Aragorn\n",
            "hello Gandalf\n",
            "hello Frodo\n",
            "hello Legolas\n",
            "hello Gollum\n",
            "hello Gimli\n",
            "hello Walter White\n",
            "hello Jesse Pinkman\n",
            "hello Gus Fring\n"
          ]
        }
      ],
      "source": [
        "# code here\n",
        "# flattened_lists = []\n",
        "for sublists in characters:\n",
        "    for name in sublists:\n",
        "      print(f'hello {name}')"
      ]
    },
    {
      "cell_type": "markdown",
      "metadata": {
        "id": "8d-IfDLn-IJ7"
      },
      "source": [
        "**Exercise 5:** \n",
        "\n",
        "Tweak the code of the previous exercise to greet characters based on these conditions:\n",
        "\n",
        "- If their name is composed of two words (Name Surname), the greeting should be \"Hello Name, from the house of Surname\".\n",
        "\n",
        "- If their name is shorter than 6 characters, the greeting should replicate the last letter of the name as many times as needed until it reaches 6 characters."
      ]
    },
    {
      "cell_type": "code",
      "execution_count": 16,
      "metadata": {
        "colab": {
          "base_uri": "https://localhost:8080/"
        },
        "id": "XN4BwD-A-IJ7",
        "outputId": "72cab8c9-b2b7-4be4-c926-10c01fff9dd9"
      },
      "outputs": [
        {
          "name": "stdout",
          "output_type": "stream",
          "text": [
            "Harryy\n",
            "hello Hermoine\n",
            "Ronnnn\n",
            "hello Daenerys from the house of Targaryen\n",
            "hello Jon from the house of Snow\n",
            "hello Tyrion from the house of Lannister\n",
            "hello Cercei from the house of Lannister\n",
            "hello Arya from the house of Stark\n",
            "hello Sansa from the house of Stark\n",
            "hello Aragorn\n",
            "hello Gandalf\n",
            "Frodoo\n",
            "hello Legolas\n",
            "hello Gollum\n",
            "Gimlii\n",
            "hello Walter from the house of White\n",
            "hello Jesse from the house of Pinkman\n",
            "hello Gus from the house of Fring\n"
          ]
        }
      ],
      "source": [
        "# code here\n",
        "# flattened_lists = []\n",
        "for sublists in characters:\n",
        "    for name in sublists:\n",
        "      if len(name.split()) == 2:\n",
        "          surname = name.split()[1]\n",
        "          print(f'hello {name.split()[0]} from the house of {surname}')\n",
        "      elif len(name) < 6:\n",
        "        print(f'{name + name[-1] * (6 - len(name))}') # if name is less than 6 characters, subtracts it from 6 and multiplies the last letter by the difference\n",
        "      else:\n",
        "          print(f'hello {name}')\n"
      ]
    },
    {
      "cell_type": "markdown",
      "metadata": {
        "id": "S3q7FjMnG94g"
      },
      "source": [
        "**Exercise 6:** \n",
        "\n",
        "\n",
        "Take 50 samples(with replacement), each one of size 10 from `numbers_ser` series."
      ]
    },
    {
      "cell_type": "code",
      "execution_count": 17,
      "metadata": {
        "colab": {
          "base_uri": "https://localhost:8080/"
        },
        "id": "d6NztYnADDEl",
        "outputId": "d3c95c98-8282-4e2e-bf1c-4a8489a5b134"
      },
      "outputs": [
        {
          "data": {
            "text/plain": [
              "[75    63\n",
              " 90    11\n",
              " 26    77\n",
              " 67     4\n",
              " 5     25\n",
              " 38    41\n",
              " 65    82\n",
              " 47    65\n",
              " 15    97\n",
              " 75    63\n",
              " dtype: int64,\n",
              " 75    63\n",
              " 90    11\n",
              " 26    77\n",
              " 67     4\n",
              " 5     25\n",
              " 38    41\n",
              " 65    82\n",
              " 47    65\n",
              " 15    97\n",
              " 75    63\n",
              " dtype: int64,\n",
              " 75    63\n",
              " 90    11\n",
              " 26    77\n",
              " 67     4\n",
              " 5     25\n",
              " 38    41\n",
              " 65    82\n",
              " 47    65\n",
              " 15    97\n",
              " 75    63\n",
              " dtype: int64]"
            ]
          },
          "execution_count": 17,
          "metadata": {},
          "output_type": "execute_result"
        }
      ],
      "source": [
        "#code here\n",
        "sample = numbers_ser.sample(n=10, replace=True)\n",
        "list_of_samples = []\n",
        "\n",
        "for i in range(3):\n",
        "  list_of_samples.append(sample)\n",
        "\n",
        "list_of_samples\n"
      ]
    },
    {
      "cell_type": "code",
      "execution_count": 18,
      "metadata": {
        "id": "XUuBHAPodNUP"
      },
      "outputs": [],
      "source": [
        "my_list = [5, 3, 5, 1, 0, 7, 8, 1, 9, 5, 5, 7, 3, 4, 8, 9, 5, 3, 3, 2, 6, 1]"
      ]
    },
    {
      "cell_type": "code",
      "execution_count": 19,
      "metadata": {
        "id": "tERWqBGLdRMJ"
      },
      "outputs": [
        {
          "data": {
            "text/plain": [
              "0     5\n",
              "1     3\n",
              "2     5\n",
              "3     1\n",
              "4     0\n",
              "5     7\n",
              "6     8\n",
              "7     1\n",
              "8     9\n",
              "9     5\n",
              "10    5\n",
              "11    7\n",
              "12    3\n",
              "13    4\n",
              "14    8\n",
              "15    9\n",
              "16    5\n",
              "17    3\n",
              "18    3\n",
              "19    2\n",
              "20    6\n",
              "21    1\n",
              "dtype: int64"
            ]
          },
          "execution_count": 19,
          "metadata": {},
          "output_type": "execute_result"
        }
      ],
      "source": [
        "import pandas as pd\n",
        "my_series = pd.Series(my_list)\n",
        "my_series"
      ]
    },
    {
      "cell_type": "code",
      "execution_count": 20,
      "metadata": {
        "colab": {
          "base_uri": "https://localhost:8080/"
        },
        "id": "hnzdAPO0djmg",
        "outputId": "c9b3889b-3814-4b19-f130-2bdb46b4e87d"
      },
      "outputs": [
        {
          "data": {
            "text/plain": [
              "10    5\n",
              "16    5\n",
              "3     1\n",
              "18    3\n",
              "7     1\n",
              "dtype: int64"
            ]
          },
          "execution_count": 20,
          "metadata": {},
          "output_type": "execute_result"
        }
      ],
      "source": [
        "my_sample = my_series.sample(n=5)\n",
        "my_sample"
      ]
    },
    {
      "cell_type": "code",
      "execution_count": 21,
      "metadata": {
        "colab": {
          "base_uri": "https://localhost:8080/"
        },
        "id": "t7RdMpGBjmK4",
        "outputId": "e1d60872-6fbe-4868-d566-9f3bfee154f7"
      },
      "outputs": [
        {
          "name": "stdout",
          "output_type": "stream",
          "text": [
            "6     8\n",
            "19    2\n",
            "14    8\n",
            "dtype: int64 \n",
            " 6     8\n",
            "19    2\n",
            "14    8\n",
            "dtype: int64\n"
          ]
        }
      ],
      "source": [
        "sample1 = my_series.sample(n=3, replace=True, random_state=42)\n",
        "sample2 = my_series.sample(n=3, replace=True, random_state=42)\n",
        "print(sample1, '\\n', sample2)"
      ]
    },
    {
      "cell_type": "code",
      "execution_count": 22,
      "metadata": {
        "id": "PDg-M1C5h82U"
      },
      "outputs": [
        {
          "data": {
            "text/plain": [
              "[15    9\n",
              " 8     9\n",
              " 2     5\n",
              " 15    9\n",
              " 12    3\n",
              " 21    1\n",
              " 20    6\n",
              " 17    3\n",
              " 10    5\n",
              " 12    3\n",
              " dtype: int64,\n",
              " 2     5\n",
              " 4     0\n",
              " 13    4\n",
              " 21    1\n",
              " 18    3\n",
              " 20    6\n",
              " 17    3\n",
              " 20    6\n",
              " 12    3\n",
              " 0     5\n",
              " dtype: int64,\n",
              " 16    5\n",
              " 18    3\n",
              " 14    8\n",
              " 15    9\n",
              " 10    5\n",
              " 6     8\n",
              " 16    5\n",
              " 13    4\n",
              " 5     7\n",
              " 13    4\n",
              " dtype: int64,\n",
              " 18    3\n",
              " 4     0\n",
              " 15    9\n",
              " 20    6\n",
              " 20    6\n",
              " 17    3\n",
              " 11    7\n",
              " 5     7\n",
              " 10    5\n",
              " 20    6\n",
              " dtype: int64,\n",
              " 11    7\n",
              " 18    3\n",
              " 9     5\n",
              " 12    3\n",
              " 4     0\n",
              " 18    3\n",
              " 12    3\n",
              " 1     3\n",
              " 16    5\n",
              " 20    6\n",
              " dtype: int64]"
            ]
          },
          "execution_count": 22,
          "metadata": {},
          "output_type": "execute_result"
        }
      ],
      "source": [
        "list_of_samples = []\n",
        "\n",
        "list_of_samples.append(my_series.sample(n=10, replace=True))\n",
        "list_of_samples.append(my_series.sample(n=10, replace=True))\n",
        "list_of_samples.append(my_series.sample(n=10, replace=True))\n",
        "list_of_samples.append(my_series.sample(n=10, replace=True))\n",
        "list_of_samples.append(my_series.sample(n=10, replace=True))\n",
        "\n",
        "list_of_samples"
      ]
    },
    {
      "cell_type": "code",
      "execution_count": 23,
      "metadata": {
        "id": "bLXOmJA1jcfX"
      },
      "outputs": [
        {
          "data": {
            "text/plain": [
              "[5     7\n",
              " 8     9\n",
              " 7     1\n",
              " 19    2\n",
              " 12    3\n",
              " 7     1\n",
              " 5     7\n",
              " 2     5\n",
              " 7     1\n",
              " 12    3\n",
              " dtype: int64,\n",
              " 11    7\n",
              " 8     9\n",
              " 19    2\n",
              " 11    7\n",
              " 16    5\n",
              " 0     5\n",
              " 1     3\n",
              " 10    5\n",
              " 9     5\n",
              " 1     3\n",
              " dtype: int64,\n",
              " 9     5\n",
              " 14    8\n",
              " 8     9\n",
              " 20    6\n",
              " 2     5\n",
              " 20    6\n",
              " 13    4\n",
              " 10    5\n",
              " 7     1\n",
              " 3     1\n",
              " dtype: int64,\n",
              " 20    6\n",
              " 10    5\n",
              " 21    1\n",
              " 19    2\n",
              " 0     5\n",
              " 18    3\n",
              " 20    6\n",
              " 0     5\n",
              " 7     1\n",
              " 3     1\n",
              " dtype: int64,\n",
              " 21    1\n",
              " 6     8\n",
              " 2     5\n",
              " 12    3\n",
              " 4     0\n",
              " 16    5\n",
              " 15    9\n",
              " 2     5\n",
              " 15    9\n",
              " 17    3\n",
              " dtype: int64]"
            ]
          },
          "execution_count": 23,
          "metadata": {},
          "output_type": "execute_result"
        }
      ],
      "source": [
        "#for loop runs the code 5 times\n",
        "list_of_samples = []\n",
        "for el in [0, 1, 2, 3, 4]:\n",
        "    list_of_samples.append(my_series.sample(n=10, replace=True))\n",
        "list_of_samples"
      ]
    },
    {
      "cell_type": "code",
      "execution_count": 24,
      "metadata": {
        "id": "NiSLps4-ns9h"
      },
      "outputs": [
        {
          "data": {
            "text/plain": [
              "[20    6\n",
              " 2     5\n",
              " 4     0\n",
              " 3     1\n",
              " 8     9\n",
              " 0     5\n",
              " 14    8\n",
              " 18    3\n",
              " 0     5\n",
              " 2     5\n",
              " dtype: int64,\n",
              " 9     5\n",
              " 20    6\n",
              " 20    6\n",
              " 8     9\n",
              " 21    1\n",
              " 12    3\n",
              " 10    5\n",
              " 2     5\n",
              " 19    2\n",
              " 4     0\n",
              " dtype: int64,\n",
              " 21    1\n",
              " 1     3\n",
              " 4     0\n",
              " 18    3\n",
              " 12    3\n",
              " 7     1\n",
              " 20    6\n",
              " 16    5\n",
              " 9     5\n",
              " 2     5\n",
              " dtype: int64,\n",
              " 21    1\n",
              " 14    8\n",
              " 16    5\n",
              " 13    4\n",
              " 1     3\n",
              " 14    8\n",
              " 10    5\n",
              " 4     0\n",
              " 5     7\n",
              " 12    3\n",
              " dtype: int64,\n",
              " 2     5\n",
              " 0     5\n",
              " 14    8\n",
              " 19    2\n",
              " 5     7\n",
              " 0     5\n",
              " 20    6\n",
              " 12    3\n",
              " 15    9\n",
              " 12    3\n",
              " dtype: int64]"
            ]
          },
          "execution_count": 24,
          "metadata": {},
          "output_type": "execute_result"
        }
      ],
      "source": [
        "list_of_samples = []\n",
        "\n",
        "for i in range(5): # it is also possible range(1, 6). In this case your numbers will be 1-5. With range(5), it is 0-4\n",
        "    list_of_samples.append(my_series.sample(n=10, replace=True))\n",
        "list_of_samples"
      ]
    }
  ],
  "metadata": {
    "colab": {
      "collapsed_sections": [
        "DBwp0YuM-IJ3",
        "A1IyEosz-IJ5",
        "elfVtO9A-IJ7"
      ],
      "provenance": []
    },
    "kernelspec": {
      "display_name": "Python 3",
      "language": "python",
      "name": "python3"
    },
    "language_info": {
      "codemirror_mode": {
        "name": "ipython",
        "version": 3
      },
      "file_extension": ".py",
      "mimetype": "text/x-python",
      "name": "python",
      "nbconvert_exporter": "python",
      "pygments_lexer": "ipython3",
      "version": "3.9.13"
    }
  },
  "nbformat": 4,
  "nbformat_minor": 0
}
